{
 "cells": [
  {
   "cell_type": "code",
   "execution_count": null,
   "source": [
    "from constants import *\n",
    "import os\n",
    "from dotenv import load_dotenv\n",
    "import subprocess\n",
    "import json\n",
    "from web3 import Web3\n",
    "from eth_account import Account\n",
    "from bit import PrivateKeyTestnet\n",
    "from bit.network import NetworkAPI"
   ],
   "outputs": [],
   "metadata": {}
  },
  {
   "cell_type": "code",
   "execution_count": null,
   "source": [
    "load_dotenv()\n",
    "mnemonic = os.getenv(\"MNEMONIC\", 'deposit quote question hidden brave raw tiny fragile vehicle foil they fabric')"
   ],
   "outputs": [],
   "metadata": {}
  },
  {
   "cell_type": "code",
   "execution_count": null,
   "source": [
    "\n",
    "def derive_wallets (mnemonic, coin, number):\n",
    "    \n",
    "    command = f\"./derive -g --mnemonic='{mnemonic}' --coin='{coin}' --numderive='{number}' --format=json\"\n",
    "    process = subprocess.Popen(command, stdout=subprocess.PIPE, shell=True)\n",
    "    (output, err) = process.communicate()\n",
    "    process_status = process.wait()\n",
    "    keys = json.loads(output)\n",
    "    \n",
    "    return keys"
   ],
   "outputs": [],
   "metadata": {}
  },
  {
   "cell_type": "code",
   "execution_count": null,
   "source": [
    "def coins ():\n",
    "    coin_dict = {\n",
    "    'btc-test': derive_wallets(mnemonic, BTCTEST, 3),\n",
    "    'eth': derive_wallets(mnemonic, ETH, 3)\n",
    "    }\n",
    "    return coin_dict"
   ],
   "outputs": [],
   "metadata": {}
  },
  {
   "cell_type": "code",
   "execution_count": null,
   "source": [
    "#test coin function\n",
    "coins()"
   ],
   "outputs": [],
   "metadata": {}
  },
  {
   "cell_type": "code",
   "execution_count": null,
   "source": [
    "# test private key extract\n",
    "coins()[ETH][0]['privkey']"
   ],
   "outputs": [],
   "metadata": {}
  },
  {
   "cell_type": "code",
   "execution_count": null,
   "source": [
    "#test btc key extract\n",
    "btctest_key = coins()[BTCTEST][0]['privkey']\n",
    "print(btctest_key)"
   ],
   "outputs": [],
   "metadata": {}
  },
  {
   "cell_type": "code",
   "execution_count": null,
   "source": [
    "#create account object that can be consumed by web3 or bit\n",
    "def priv_key_to_account(coin, priv_key):\n",
    "\n",
    "    if coin == ETH:\n",
    "        return Account.privateKeyToAccount(priv_key)\n",
    "    elif coin == BTCTEST:\n",
    "        return PrivateKeyTestnet(priv_key)\n",
    "    else:\n",
    "        return 'err: unsupported key'\n",
    "\n",
    "\n"
   ],
   "outputs": [],
   "metadata": {}
  },
  {
   "cell_type": "code",
   "execution_count": null,
   "source": [
    "#set eth testnet address\n",
    "w3 = Web3(Web3.HTTPProvider('http://127.0.0.1:8545'))\n",
    "w3.isConnected()"
   ],
   "outputs": [],
   "metadata": {}
  },
  {
   "cell_type": "code",
   "execution_count": null,
   "source": [
    "#set eth sender account\n",
    "eth_sender = priv_key_to_account(ETH, coins()[ETH][0]['privkey'])\n",
    "\n",
    "print(eth_sender)\n"
   ],
   "outputs": [],
   "metadata": {}
  },
  {
   "cell_type": "code",
   "execution_count": null,
   "source": [
    "#set ETH recipient address\n",
    "print(\"Enter receiver address\")\n",
    "eth_rec = input()\n",
    "print(eth_rec)"
   ],
   "outputs": [],
   "metadata": {}
  },
  {
   "cell_type": "code",
   "execution_count": null,
   "source": [
    "#set btc_testnet sender\n",
    "btc_sender = priv_key_to_account(BTCTEST, coins()[BTCTEST][0]['privkey'])\n",
    "print(btc_sender.address)\n",
    "len(btc_sender.address)\n"
   ],
   "outputs": [],
   "metadata": {}
  },
  {
   "cell_type": "code",
   "execution_count": null,
   "source": [
    "#set btc_testnet recipient\n",
    "btc_rec = priv_key_to_account(BTCTEST, coins()[BTCTEST][1]['privkey'])\n",
    "print(btc_rec.address)"
   ],
   "outputs": [],
   "metadata": {}
  },
  {
   "cell_type": "code",
   "execution_count": null,
   "source": [
    "def create_tx(coin, account, to, amount):\n",
    "    \n",
    "    if coin == ETH:\n",
    "        gasEstimate = w3.eth.estimate_gas({\n",
    "            'from': account.address, \n",
    "            'to': to, \n",
    "            'value': w3.toWei(amount,'ether') \n",
    "            })\n",
    "        return {\n",
    "            'to': to, \n",
    "            'from': account.address, \n",
    "            'value': w3.toWei(amount,'ether'), \n",
    "            'gas': gasEstimate, \n",
    "            'gasPrice': w3.eth.gas_price, \n",
    "            'nonce':w3.eth.get_transaction_count(account.address),\n",
    "        }\n",
    "    elif coin == BTCTEST:\n",
    "        return PrivateKeyTestnet.prepare_transaction(account, [(to, amount, BTC)])\n"
   ],
   "outputs": [],
   "metadata": {}
  },
  {
   "cell_type": "code",
   "execution_count": null,
   "source": [
    "#test eth transaction\n",
    "create_tx(ETH, eth_sender, eth_rec, 0.3)"
   ],
   "outputs": [],
   "metadata": {}
  },
  {
   "cell_type": "code",
   "execution_count": null,
   "source": [
    "PrivateKeyTestnet.get_unspents(btc_sender)"
   ],
   "outputs": [],
   "metadata": {}
  },
  {
   "cell_type": "code",
   "execution_count": null,
   "source": [
    "PrivateKeyTestnet.get_balance(btc_sender, currency='btc')"
   ],
   "outputs": [],
   "metadata": {}
  },
  {
   "cell_type": "code",
   "execution_count": null,
   "source": [
    "#test btc tx\n",
    "# create_tx(BTCTEST, btc_sender, btc_rec, .0001)\n",
    "\n",
    "# doesn't work - this is what is failing:\n",
    "# PrivateKeyTestnet.prepare_transaction(btc_sender.address, [(btc_rec, .0001, BTC)])\n",
    "#also tried:\n",
    "PrivateKeyTestnet.get_unspents(btc_sender)\n",
    "PrivateKeyTestnet.prepare_transaction(btc_sender, [(btc_rec, .0001, BTC)], unspents=btc_sender.get_unspents())\n",
    "    # Output:\n",
    "    # Must have at least 1 unspent"
   ],
   "outputs": [],
   "metadata": {}
  },
  {
   "cell_type": "code",
   "execution_count": null,
   "source": [
    "# create function to sign and send tx's\n",
    "def send_tx (coin, account, to, amount):\n",
    "    raw_tx = create_tx(coin, account, to, amount)\n",
    "    signed_tx = account.sign_transaction(raw_tx)\n",
    "    \n",
    "    if coin == ETH:\n",
    "        return w3.eth.sendRawTransaction(signed_tx.rawTransaction)\n",
    "\n",
    "    elif coin == BTCTEST:\n",
    "        return NetworkAPI.broadcast_tx_testnet(signed_tx)"
   ],
   "outputs": [],
   "metadata": {}
  },
  {
   "cell_type": "code",
   "execution_count": null,
   "source": [
    "#test ETH send_tx\n",
    "send_tx(ETH, eth_sender, eth_rec, 3.33)"
   ],
   "outputs": [],
   "metadata": {}
  },
  {
   "cell_type": "code",
   "execution_count": null,
   "source": [
    "#test BTC send_tx\n",
    "send_tx(BTCTEST, btc_sender, btc_rec, 0.001)"
   ],
   "outputs": [],
   "metadata": {}
  },
  {
   "cell_type": "code",
   "execution_count": null,
   "source": [],
   "outputs": [],
   "metadata": {}
  }
 ],
 "metadata": {
  "orig_nbformat": 4,
  "language_info": {
   "name": "python"
  }
 },
 "nbformat": 4,
 "nbformat_minor": 2
}